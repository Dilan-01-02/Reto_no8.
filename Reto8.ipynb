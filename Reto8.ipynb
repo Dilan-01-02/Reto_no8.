{
 "cells": [
  {
   "attachments": {},
   "cell_type": "markdown",
   "metadata": {},
   "source": [
    "## Punto 1\n",
    "    - Imprimir un listado con los números del 1 al 100 cada uno con su respectivo cuadrado."
   ]
  },
  {
   "cell_type": "code",
   "execution_count": null,
   "metadata": {},
   "outputs": [],
   "source": [
    "# Bucle \"for\" que imprime los numeros del 1 al 100 con su respectivo cuadrado\n",
    "for i in range(1,101):\n",
    "    print(str(i) + \" Su cuadrado es --> \" + str(i**2))"
   ]
  },
  {
   "attachments": {},
   "cell_type": "markdown",
   "metadata": {},
   "source": [
    "## Punto 2\n",
    "    - Imprimir un listado con los números impares desde 1 hasta 999 y seguidamente otro listado con los números pares desde 2 hasta 1000."
   ]
  },
  {
   "cell_type": "code",
   "execution_count": null,
   "metadata": {},
   "outputs": [],
   "source": [
    "# Bucle for que imprime los números impares desde el 1 hasta el 999\n",
    "print(\"IMPARES DESEDE EL 1 HASTA EL 999\")\n",
    "for i in range (0, 500):\n",
    "    print(2*i+1)\n",
    "print(\"================================\")\n",
    "\n",
    "# Bucle for que imprime los números pares desde el 2 hasta el 1000\n",
    "print(\"PARES DESDE EL 2 HASTA EL 1000\")\n",
    "for i in range (1,501):\n",
    "    print(2*i)"
   ]
  },
  {
   "attachments": {},
   "cell_type": "markdown",
   "metadata": {},
   "source": [
    "## Punto 3\n",
    "    - Imprimir los números pares en forma descendente hasta 2 que son menores o iguales a un número natural n ≥ 2 dado"
   ]
  },
  {
   "cell_type": "code",
   "execution_count": null,
   "metadata": {},
   "outputs": [],
   "source": [
    "bandera : bool = True\n",
    "# Bucle while en el que se ingresa un número y comprueba que el número ingresado es mayor o igual a dos\n",
    "while bandera or n<2:\n",
    "    bandera = False\n",
    "    n = int(input(\"Ingrese un número natural mayor o igual a 2: \"))\n",
    "    \n",
    "    if n<2:\n",
    "        print(\"El número ingresado no es mayor o igual a dos\")\n",
    "\n",
    "# Condicional que convierte un posible número impar ingresado a uno par\n",
    "if n % 2 != 0:\n",
    "    n -= 1\n",
    "\n",
    "print(\"LOS NÚMEROS PARES ORDENADOS DE FORMA DESCENDENTE DESDE EL NÚMERO \" +str(n)+\" HASTA 2:\")\n",
    "# Bucle for que muestra los números pares de forma descendente  desde el número ingresado hasta 2\n",
    "for i in range (n, 1, -2):\n",
    "    print(i)  "
   ]
  },
  {
   "attachments": {},
   "cell_type": "markdown",
   "metadata": {},
   "source": [
    "## Punto 4\n",
    "    - Imprimir los números de 1 hasta un número natural n dado, cada uno con su respectivo factorial"
   ]
  },
  {
   "cell_type": "code",
   "execution_count": null,
   "metadata": {},
   "outputs": [],
   "source": [
    "def calculoDelFactorial (x:int) -> int:\n",
    "    \"\"\"Función que calcula el factorial de los números desde 1 hasta un número n dado recibiendo como parámetros un número entero n \n",
    "\n",
    "    Args:\n",
    "        n(int): Primer parámetro. \n",
    "            Último número al cual se le calculará el factorial \n",
    "\n",
    "    \"\"\"\n",
    "    factorial : int = 1\n",
    "    for i in range(1, x+1):\n",
    "        factorial = factorial*i\n",
    "    return factorial\n",
    "\n",
    "if __name__ == \"__main__\":\n",
    "    bandera : bool = True\n",
    "    while bandera or n<0:\n",
    "        # Bucle while que recibe un número natural n y comprueba que el número ingresado es natural \n",
    "        bandera = False\n",
    "        n = int(input(\"Ingrese un número natural: \"))\n",
    "        if n<0:\n",
    "            print(\"El número ingresado no es natural\")\n",
    "    # Llamado de la funcion calculoDelFactorial y envío del parámetro n \n",
    "    for i in range (1,n+1):\n",
    "        fact = calculoDelFactorial(i)\n",
    "        print(str(i)+\"! = \"+str(fact))"
   ]
  },
  {
   "attachments": {},
   "cell_type": "markdown",
   "metadata": {},
   "source": [
    "## Punto 5\n",
    "    - Calcular el valor de 2 elevado a la potencia n usando ciclos for."
   ]
  },
  {
   "cell_type": "code",
   "execution_count": null,
   "metadata": {},
   "outputs": [],
   "source": [
    "def calculoDePotencia(n:int) -> int:\n",
    "    \"\"\"Función que calcula el valor de 2 elevado a una potencia n s\n",
    "\n",
    "    Args:\n",
    "        n (int): Primer parámetro.\n",
    "            Número el cual será la potencia del número 2\n",
    "\n",
    "    Returns:\n",
    "        int: Retorna potencia. \n",
    "\n",
    "    \"\"\"\n",
    "    potencia : int = 1\n",
    "    for i in range (1,n+1):\n",
    "        # Bucle for que calcula el valor de 2 elevado a una potencia dada \n",
    "        potencia = potencia*2\n",
    "    return potencia\n",
    "\n",
    "if __name__ == \"__main__\":\n",
    "    n = int(input(\"Ingrese un número: \"))\n",
    "    # LLamado de la función y envío del parámetro n \n",
    "    pot = calculoDePotencia(n)\n",
    "    print(\"2^\"+str(n)+\" = \"+str(pot))"
   ]
  },
  {
   "attachments": {},
   "cell_type": "markdown",
   "metadata": {},
   "source": [
    "## Punto 6\n",
    "    - Leer un número natural n, leer otro dato de tipo real x y calcular x^n usando ciclos for."
   ]
  },
  {
   "cell_type": "code",
   "execution_count": null,
   "metadata": {},
   "outputs": [],
   "source": [
    "def calculoDePotencia(n:int,x:float) -> float:\n",
    "    \"\"\"Función que calcula el valor de un número real x elevado a un número natural n \n",
    "\n",
    "    Args:\n",
    "        n (int): Primer parámetro.\n",
    "            Número que será la potencia de x\n",
    "        x (int): Segundo parámetro.\n",
    "            Número que se elevará a la n \n",
    "\n",
    "    Returns:\n",
    "        int: Retorna potencia. \n",
    "\n",
    "    \"\"\"\n",
    "    potencia = 1\n",
    "    for i in range (1, n+1):\n",
    "        # Bucle for que calcula la potencia de un número real x elevado a un número natural n\n",
    "        potencia = potencia*x\n",
    "    return potencia\n",
    "\n",
    "if __name__ == \"__main__\":\n",
    "    n = int(input(\"Ingrese un número natural: \"))\n",
    "    x = float(input(\"Ingrese un número real: \"))\n",
    "    # Llamado de la función y envio de los parámetros n y x \n",
    "    pot = calculoDePotencia(n,x)\n",
    "    print(str(x)+\"^\"+str(n)+\" = \"+str(pot))"
   ]
  },
  {
   "attachments": {},
   "cell_type": "markdown",
   "metadata": {},
   "source": [
    "## Punto 7\n",
    "    - Diseñe un programa que muestre las tablas de multiplicar del 1 al 9."
   ]
  },
  {
   "cell_type": "code",
   "execution_count": null,
   "metadata": {},
   "outputs": [],
   "source": [
    "def tablaDeMultiplicar(x:int):\n",
    "    \"\"\"Función que genera la tabla de multiplicar de un parámetro x  \n",
    "\n",
    "    Args:\n",
    "        x (int): Primer parámetro.\n",
    "            Número al cual se le generará la tabla de multiplicar \n",
    "    \"\"\"\n",
    "    mult : int = 0 \n",
    "    for i in range (1,11):\n",
    "        # Bucle for que calcula el valor de la multiplicación entre el parámetro x y el número entre 1 y 10\n",
    "        mult = mult + x\n",
    "        print( str(x)+\" * \"+str(i)+\" = \"+str(mult))\n",
    "    \n",
    "if __name__ == \"__main__\":\n",
    "    for i in range (1,10):\n",
    "        # Bucle for que muestra las tablas de multiplicar desde el 1 hasta el 9\n",
    "        print(\"===========\")\n",
    "        print(\"TABLA DEL \"+str(i))\n",
    "        print(\"===========\")\n",
    "        # Llamado de la función tablaDeMultiplicar y envío del parámetro x\n",
    "        tabla = tablaDeMultiplicar(i)"
   ]
  },
  {
   "attachments": {},
   "cell_type": "markdown",
   "metadata": {},
   "source": [
    "## Punto 8\n",
    "    - Diseñar una función que permita calcular una aproximación de la función exponencial alrededor de 0 para cualquier valor x (real), utilizando los primeros n términos de la \n",
    "    serie de Maclaurin. nota: use math para traer la función exponencial y mostrar la diferencia entre el valor real y la aproximación."
   ]
  },
  {
   "cell_type": "code",
   "execution_count": null,
   "metadata": {},
   "outputs": [],
   "source": [
    "'''\n",
    "Diseñar una función que permita calcular una aproximación de la función exponencial alrededor de 0 para cualquier valor x (real), utilizando los primeros n términos de la \n",
    "serie de Maclaurin. nota: use math para traer la función exponencial y mostrar la diferencia entre el valor real y la aproximación.\n",
    "\n",
    "'''\n",
    "# Importación de la función calculoDelFactorial desde el archivo \"Cuarto_punto\"\n",
    "from Cuarto_punto import calculoDelFactorial\n",
    "# Importación de la libreria math de python\n",
    "import math\n",
    "\n",
    "def funcionExponencial(x:float,n:int) -> float:\n",
    "    \"\"\"Función que calcula el valor aproximado de la función exponencial de un parámetro x haciendo uso de los primeros n terminos de la \n",
    "        serie de Maclaurin.\n",
    "\n",
    "    Args:\n",
    "        x (float): Primer parámetro.\n",
    "            Número al cual se le calculara la función exponencial \n",
    "        n (int): Segundo parámetro.\n",
    "            Número que indicará cuantos terminos de la serie de Maclaurin se usarán para realizar el cálculo\n",
    "\n",
    "    Returns:\n",
    "        float: exp\n",
    "    \"\"\"\n",
    "    exp : float = 0\n",
    "    for i in range (n):\n",
    "        # Bucle for que calcula el valor aproximado de la función exponencial usando la serie de Maclaurin \n",
    "        exp += (x**i)/(calculoDelFactorial(i))\n",
    "        error = abs(exp - math.exp(x))\n",
    "        # Condicional que determina la cantidad de terminos necesarios para que la aproximación de la función por series de Maclaurin sea menor al 0.1% de error  \n",
    "        if error >= 0.001:\n",
    "            terminos = \"No hay terminos suficientes\" \n",
    "        else:\n",
    "            terminos = i + 1 \n",
    "            break  \n",
    "    return \"La aproximación de la funcion exponencial es: {}\\nEl valor real de la función exponencial es: {}\\nEl error entre el valor aproximado y el valor real es: {}\\nEl número de terminos necesarios para que el error sea menor a 0.1% es: {}\".format(exp,math.exp(x),error,terminos)\n",
    "\n",
    "if __name__ == \"__main__\":\n",
    "    x = float(input(\"Ingrese el valor de x: \"))\n",
    "    n = int(input(\"Ingrese el número de terminos para calcular la serie de Maclaurin: \"))\n",
    "    # Llamado de la función fucionExponencial y envío de los parámetros x y n \n",
    "    exponencial = funcionExponencial(x,n)\n",
    "    print(exponencial)"
   ]
  },
  {
   "attachments": {},
   "cell_type": "markdown",
   "metadata": {},
   "source": [
    "## Punto 9\n",
    "    - Diseñar una función que permita calcular una aproximación de la función seno alrededor de 0 para cualquier valor x (real), utilizando los primeros n términos de la \n",
    "    serie de Maclaurin. nota: use math para traer la función seno y mostrar la diferencia entre el valor real y la aproximación."
   ]
  },
  {
   "cell_type": "code",
   "execution_count": null,
   "metadata": {},
   "outputs": [],
   "source": [
    "'''\n",
    "Diseñar una función que permita calcular una aproximación de la función seno alrededor de 0 para cualquier valor x (real), utilizando los primeros n términos de la \n",
    "serie de Maclaurin. nota: use math para traer la función seno y mostrar la diferencia entre el valor real y la aproximación.\n",
    "\n",
    "'''\n",
    "# Importación de la función calculoDelFactorial desde el archivo \"Cuarto_punto\"\n",
    "from Cuarto_punto import calculoDelFactorial\n",
    "# Importación de la libreria math de python\n",
    "import math\n",
    "\n",
    "def funcionSeno(x:float,n:int) -> float:\n",
    "    \"\"\"Función que calcula el valor aproximado de la función seno de un parámetro x haciendo uso de los primeros n terminos de la \n",
    "        serie de Maclaurin.\n",
    "\n",
    "    Args:\n",
    "        x (float): Primer parámetro.\n",
    "            Número al cual se le calculara la función seno\n",
    "        n (int): Segundo parámetro.\n",
    "            Número que indicará cuantos terminos de la serie de Maclaurin se usarán para realizar el cálculo\n",
    "\n",
    "    Returns:\n",
    "        float: sen\n",
    "    \"\"\"\n",
    "    sen : float = 0 \n",
    "    for i in range (n):\n",
    "        # Bucle for que calcula el valor aproximado de la función seno usando la serie de Maclaurin\n",
    "        sen = sen + (((-1)**i)*((x**(2*i+1))/calculoDelFactorial(2*i+1)))\n",
    "        error = abs(sen - math.sin(x))\n",
    "        # Condicional que determina la cantidad de terminos necesarios para que la aproximación de la función por series de Maclaurin sea menor al 0.1% de error  \n",
    "        if error >= 0.001:\n",
    "            terminos = \"No hay terminos suficientes\" \n",
    "        else:\n",
    "            terminos = i + 1\n",
    "            break  \n",
    "    return \"La aproximación de la función seno es: {}\\nEl valor real de la función seno es: {}\\nEl error entre el valor aproximado y el valor real es: {}\\nEl número de terminos necesarios para que el error sea menor a 0.1% es: {}\".format(sen,math.sin(x),error,terminos)\n",
    "        \n",
    "    return sen\n",
    "    \n",
    "if __name__ == \"__main__\":\n",
    "    x = float(input(\"Ingrese el valor de x: \"))\n",
    "    n = int(input(\"Ingrese el número de terminos para calcular la serie de Maclaurin: \"))\n",
    "    # Llamado de la función fucionSeno y envío de los parámetros x y n \n",
    "    seno = funcionSeno(x,n)\n",
    "    print(seno)"
   ]
  },
  {
   "attachments": {},
   "cell_type": "markdown",
   "metadata": {},
   "source": [
    "## Punto 10 \n",
    "    - Diseñar una función que permita calcular una aproximación de la función arcotangente alrededor de 0 para cualquier valor x en el rango [-1, 1], utilizando los primeros n términos de la serie de Maclaurin. nota: use math para traer la función arctan y mostrar la diferencia entre el valor real y la aproximación.\n"
   ]
  },
  {
   "cell_type": "code",
   "execution_count": null,
   "metadata": {},
   "outputs": [],
   "source": [
    "'''\n",
    "Diseñar una función que permita calcular una aproximación de la función arcotangente alrededor de 0 para cualquier valor x en el rango [-1, 1], utilizando los primeros n términos de la \n",
    "serie de Maclaurin. nota: use math para traer la función arctan y mostrar la diferencia entre el valor real y la aproximación.\n",
    "\n",
    "'''\n",
    "# Importación de la libreria math de python\n",
    "import math\n",
    "\n",
    "def funcionArcotangente(x:float,n:int) -> float:\n",
    "    \"\"\"Función que calcula el valor aproximado de la función arcotangente de un parámetro x en el rango [-1, 1] haciendo uso de los primeros n terminos de la \n",
    "        serie de Maclaurin.\n",
    "\n",
    "    Args:\n",
    "        x (float): Primer parámetro.\n",
    "            Número al cual se le calculara la función arcotangente\n",
    "        n (int): Segundo parámetro.\n",
    "            Número que indicará cuantos terminos de la serie de Maclaurin se usarán para realizar el cálculo\n",
    "\n",
    "    Returns:\n",
    "        float: arctan\n",
    "    \"\"\"\n",
    "    arctan : float = 0 \n",
    "    for i in range (n):\n",
    "        # Bucle for que calcula el valor aproximado de la función arcotangente usando la serie de Maclaurin\n",
    "        arctan = arctan + (((-1)**i)*((x**(2*i+1))/(2*i+1)))\n",
    "        error = abs(arctan - math.atan(x))\n",
    "        # Condicional que determina la cantidad de terminos necesarios para que la aproximación de la función por series de Maclaurin sea menor al 0.1% de error  \n",
    "        if error >= 0.001:\n",
    "            terminos = \"No hay terminos suficientes\" \n",
    "        else:\n",
    "            terminos = i + 1\n",
    "            break  \n",
    "    return \"La aproximación de la función arcotangente es: {}\\nEl valor real de la función arcotangente es: {}\\nEl error entre el valor aproximado y el valor real es: {}\\nEl número de terminos necesarios para que el error sea menor a 0.1% es: {}\".format(arctan,math.atan(x),error,terminos)\n",
    "    return arctan\n",
    "    \n",
    "if __name__ == \"__main__\":\n",
    "    bandera : bool = True \n",
    "    while bandera or x<-1 or x>1:\n",
    "        # Bucle while que pide el valor de x y comprueba que este se encuentre en el rango [-1, 1]\n",
    "        bandera = False\n",
    "        x = float(input(\"Ingrese el valor de x (debe estar en el rango [-1, 1]): \"))\n",
    "        if x<1 and x>1:\n",
    "            print(\"El número ingresado no se encuentra en el rango [-1, 1]\")\n",
    "    n = int(input(\"Ingrese el número de terminos para calcular la serie de Maclaurin: \"))\n",
    "    # Llamado de la función fucionArcotangente y envío de los parámetros x y n \n",
    "    arcotangente = funcionArcotangente(x,n)\n",
    "    print(arcotangente)"
   ]
  }
 ],
 "metadata": {
  "language_info": {
   "name": "python"
  },
  "orig_nbformat": 4
 },
 "nbformat": 4,
 "nbformat_minor": 2
}
